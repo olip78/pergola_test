{
 "cells": [
  {
   "cell_type": "code",
   "execution_count": 1,
   "id": "1d366d17",
   "metadata": {},
   "outputs": [
    {
     "name": "stdout",
     "output_type": "stream",
     "text": [
      "Writing pergola.yaml\n"
     ]
    }
   ],
   "source": [
    "%%writefile pergola.yaml\n",
    "version: v1\n",
    "\n",
    "components:\n",
    "- name: todo-app\n",
    "  docker:\n",
    "    file: Dockerfile\n",
    "  ports:\n",
    "  - 5050\n",
    "  ingresses:\n",
    "  - host: app\n",
    "  env:\n",
    "  - name: SQLALCHEMY_HOST\n",
    "    component-ref: todo-db\n",
    "  - name: SQLALCHEMY_PORT\n",
    "    value: \"5432\"\n",
    "  - name: SQLALCHEMY_DB\n",
    "    value: flask-demo\n",
    "  - name: SQLALCHEMY_USER\n",
    "    config-ref: DB_USER\n",
    "  - name: SQLALCHEMY_PASSWORD\n",
    "    config-ref: DB_PASS\n",
    "\n",
    "- name: todo-db\n",
    "  docker:\n",
    "    image: postgres:14.2\n",
    "  env:\n",
    "  - name: POSTGRES_DB\n",
    "    value: flask-demo\n",
    "  - name: POSTGRES_USER\n",
    "    config-ref: DB_USER\n",
    "  - name: POSTGRES_PASSWORD\n",
    "    config-ref: DB_PASS\n",
    "  storage:\n",
    "  - name: pgdata\n",
    "    path: /var/lib/postgresql/data\n",
    "    size: 1Gi\n",
    "  ports:\n",
    "  - 5432"
   ]
  },
  {
   "cell_type": "code",
   "execution_count": 2,
   "id": "244049a0",
   "metadata": {},
   "outputs": [
    {
     "name": "stdout",
     "output_type": "stream",
     "text": [
      "Writing Dockerfile\n"
     ]
    }
   ],
   "source": [
    "%%writefile Dockerfile\n",
    "FROM python:3.8-slim\n",
    "\n",
    "RUN apt-get update -y && \\\n",
    "    apt-get install -y gcc libpq-dev && \\\n",
    "    apt-get clean && \\\n",
    "    rm -rf /var/lib/apt/lists/*\n",
    "\n",
    "COPY requirements.txt requirements.txt\n",
    "RUN pip install -r requirements.txt\n",
    "\n",
    "WORKDIR /todo-list\n",
    "\n",
    "COPY test.py test.py\n",
    "\n",
    "ENV FLASK_APP=app\n",
    "CMD flask run --host=0.0.0.0 --port 5050"
   ]
  },
  {
   "cell_type": "code",
   "execution_count": 3,
   "id": "f153c3ec",
   "metadata": {},
   "outputs": [
    {
     "name": "stdout",
     "output_type": "stream",
     "text": [
      "Writing docker-compose.yml\n"
     ]
    }
   ],
   "source": [
    "%%writefile docker-compose.yml\n",
    "version: '3'\n",
    "services:\n",
    "  flask-todo-web:\n",
    "    build: .\n",
    "    environment:\n",
    "      SQLALCHEMY_HOST: flask-todo-db\n",
    "      SQLALCHEMY_PORT: \"5432\"\n",
    "      SQLALCHEMY_DB: flask-demo\n",
    "      SQLALCHEMY_USER: flask-demo\n",
    "      SQLALCHEMY_PASSWORD: flask-demo\n",
    "    ports:\n",
    "    - \"5050:5050\"\n",
    "    depends_on:\n",
    "    - flask-todo-db\n",
    "\n",
    "  flask-todo-db:\n",
    "    image: postgres:14.2\n",
    "    environment:\n",
    "      POSTGRES_USER: flask-demo\n",
    "      POSTGRES_PASSWORD: flask-demo\n",
    "      POSTGRES_DB: flask-demo\n",
    "    healthcheck:\n",
    "      test: [\"CMD-SHELL\", \"pg_isready -h localhost -U flask-demo\"]\n",
    "      interval: 2s\n",
    "      timeout: 5s\n",
    "      retries: 5\n",
    "    ports:\n",
    "    - \"5432:5432\""
   ]
  },
  {
   "cell_type": "code",
   "execution_count": null,
   "id": "d6bad0e1",
   "metadata": {},
   "outputs": [],
   "source": []
  }
 ],
 "metadata": {
  "kernelspec": {
   "display_name": "Python 3 (ipykernel)",
   "language": "python",
   "name": "python3"
  },
  "language_info": {
   "codemirror_mode": {
    "name": "ipython",
    "version": 3
   },
   "file_extension": ".py",
   "mimetype": "text/x-python",
   "name": "python",
   "nbconvert_exporter": "python",
   "pygments_lexer": "ipython3",
   "version": "3.8.11"
  }
 },
 "nbformat": 4,
 "nbformat_minor": 5
}
