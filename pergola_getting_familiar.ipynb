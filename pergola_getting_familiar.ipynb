{
 "cells": [
  {
   "cell_type": "code",
   "execution_count": 1,
   "id": "1d366d17",
   "metadata": {},
   "outputs": [
    {
     "name": "stdout",
     "output_type": "stream",
     "text": [
      "Writing pergola.yaml\n"
     ]
    }
   ],
   "source": [
    "%%writefile pergola.yaml\n",
    "version: v1\n",
    "\n",
    "components:\n",
    "- name: todo-app\n",
    "  docker:\n",
    "    file: Dockerfile\n",
    "  ports:\n",
    "  - 5050\n",
    "  ingresses:\n",
    "  - host: app\n",
    "  env:\n",
    "  - name: SQLALCHEMY_HOST\n",
    "    component-ref: todo-db\n",
    "  - name: SQLALCHEMY_PORT\n",
    "    value: \"5432\"\n",
    "  - name: SQLALCHEMY_DB\n",
    "    value: flask-demo\n",
    "  - name: SQLALCHEMY_USER\n",
    "    config-ref: DB_USER\n",
    "  - name: SQLALCHEMY_PASSWORD\n",
    "    config-ref: DB_PASS\n",
    "\n",
    "- name: todo-db\n",
    "  docker:\n",
    "    image: postgres:14.2\n",
    "  env:\n",
    "  - name: POSTGRES_DB\n",
    "    value: flask-demo\n",
    "  - name: POSTGRES_USER\n",
    "    config-ref: DB_USER\n",
    "  - name: POSTGRES_PASSWORD\n",
    "    config-ref: DB_PASS\n",
    "  storage:\n",
    "  - name: pgdata\n",
    "    path: /var/lib/postgresql/data\n",
    "    size: 1Gi\n",
    "  ports:\n",
    "  - 5432"
   ]
  },
  {
   "cell_type": "code",
   "execution_count": 2,
   "id": "e674823e",
   "metadata": {},
   "outputs": [
    {
     "name": "stdout",
     "output_type": "stream",
     "text": [
      "Writing Dockerfile\n"
     ]
    }
   ],
   "source": [
    "%%writefile Dockerfile\n",
    "FROM python:3.8-slim\n",
    "\n",
    "RUN apt-get update -y && \\\n",
    "    apt-get install -y gcc libpq-dev && \\\n",
    "    apt-get clean && \\\n",
    "    rm -rf /var/lib/apt/lists/*\n",
    "\n",
    "COPY requirements.txt requirements.txt\n",
    "RUN pip install -r requirements.txt\n",
    "\n",
    "WORKDIR /todo-list\n",
    "\n",
    "COPY test.py test.py\n",
    "\n",
    "ENV FLASK_APP=app\n",
    "CMD flask run --host=0.0.0.0 --port 5050"
   ]
  },
  {
   "cell_type": "code",
   "execution_count": 3,
   "id": "3dd77d5f",
   "metadata": {},
   "outputs": [
    {
     "name": "stdout",
     "output_type": "stream",
     "text": [
      "Writing docker-compose.yml\n"
     ]
    }
   ],
   "source": [
    "%%writefile docker-compose.yml\n",
    "version: '3'\n",
    "services:\n",
    "  flask-todo-web:\n",
    "    build: .\n",
    "    environment:\n",
    "      SQLALCHEMY_HOST: flask-todo-db\n",
    "      SQLALCHEMY_PORT: \"5432\"\n",
    "      SQLALCHEMY_DB: flask-demo\n",
    "      SQLALCHEMY_USER: flask-demo\n",
    "      SQLALCHEMY_PASSWORD: flask-demo\n",
    "    ports:\n",
    "    - \"5050:5050\"\n",
    "    depends_on:\n",
    "    - flask-todo-db\n",
    "\n",
    "  flask-todo-db:\n",
    "    image: postgres:14.2\n",
    "    environment:\n",
    "      POSTGRES_USER: flask-demo\n",
    "      POSTGRES_PASSWORD: flask-demo\n",
    "      POSTGRES_DB: flask-demo\n",
    "    healthcheck:\n",
    "      test: [\"CMD-SHELL\", \"pg_isready -h localhost -U flask-demo\"]\n",
    "      interval: 2s\n",
    "      timeout: 5s\n",
    "      retries: 5\n",
    "    ports:\n",
    "    - \"5432:5432\""
   ]
  },
  {
   "cell_type": "code",
   "execution_count": 4,
   "id": "743b89eb",
   "metadata": {},
   "outputs": [
    {
     "name": "stdout",
     "output_type": "stream",
     "text": [
      "Dockerfile                     pergola.yaml\r\n",
      "docker-compose.yml             pergola_getting_familiar.ipynb\r\n"
     ]
    }
   ],
   "source": [
    "!ls"
   ]
  },
  {
   "cell_type": "code",
   "execution_count": 5,
   "id": "fa54eb8c",
   "metadata": {},
   "outputs": [
    {
     "name": "stderr",
     "output_type": "stream",
     "text": [
      "hint: Using 'master' as the name for the initial branch. This default branch name\n",
      "hint: is subject to change. To configure the initial branch name to use in all\n",
      "hint: of your new repositories, which will suppress this warning, call:\n",
      "hint: \n",
      "hint: \tgit config --global init.defaultBranch <name>\n",
      "hint: \n",
      "hint: Names commonly chosen instead of 'master' are 'main', 'trunk' and\n",
      "hint: 'development'. The just-created branch can be renamed via this command:\n",
      "hint: \n",
      "hint: \tgit branch -m <name>\n"
     ]
    },
    {
     "name": "stdout",
     "output_type": "stream",
     "text": [
      "Initialized empty Git repository in /Users/andreichekunov/brandcompete/sagemaker/pergola_deployment/test/.git/\n",
      "[master (root-commit) e217540] third commit\n",
      " 6 files changed, 420 insertions(+)\n",
      " create mode 100644 .DS_Store\n",
      " create mode 100644 .ipynb_checkpoints/pergola_getting_familiar-checkpoint.ipynb\n",
      " create mode 100644 Dockerfile\n",
      " create mode 100644 docker-compose.yml\n",
      " create mode 100644 pergola.yaml\n",
      " create mode 100644 pergola_getting_familiar.ipynb\n"
     ]
    },
    {
     "name": "stderr",
     "output_type": "stream",
     "text": [
      "To https://github.com/olip78/pergola_test.git\n",
      " ! [rejected]        main -> main (fetch first)\n",
      "error: failed to push some refs to 'https://github.com/olip78/pergola_test.git'\n",
      "hint: Updates were rejected because the remote contains work that you do\n",
      "hint: not have locally. This is usually caused by another repository pushing\n",
      "hint: to the same ref. You may want to first integrate the remote changes\n",
      "hint: (e.g., 'git pull ...') before pushing again.\n",
      "hint: See the 'Note about fast-forwards' in 'git push --help' for details.\n"
     ]
    },
    {
     "ename": "CalledProcessError",
     "evalue": "Command 'b'git init\\ngit add --all\\ngit commit -m \"third commit\"\\ngit branch -M main\\ngit remote add origin https://github.com/olip78/pergola_test.git\\ngit push -u origin main\\n'' returned non-zero exit status 1.",
     "output_type": "error",
     "traceback": [
      "\u001b[0;31m---------------------------------------------------------------------------\u001b[0m",
      "\u001b[0;31mCalledProcessError\u001b[0m                        Traceback (most recent call last)",
      "Input \u001b[0;32mIn [5]\u001b[0m, in \u001b[0;36m<cell line: 1>\u001b[0;34m()\u001b[0m\n\u001b[0;32m----> 1\u001b[0m \u001b[43mget_ipython\u001b[49m\u001b[43m(\u001b[49m\u001b[43m)\u001b[49m\u001b[38;5;241;43m.\u001b[39;49m\u001b[43mrun_cell_magic\u001b[49m\u001b[43m(\u001b[49m\u001b[38;5;124;43m'\u001b[39;49m\u001b[38;5;124;43msh\u001b[39;49m\u001b[38;5;124;43m'\u001b[39;49m\u001b[43m,\u001b[49m\u001b[43m \u001b[49m\u001b[38;5;124;43m'\u001b[39;49m\u001b[38;5;124;43m'\u001b[39;49m\u001b[43m,\u001b[49m\u001b[43m \u001b[49m\u001b[38;5;124;43m'\u001b[39;49m\u001b[38;5;124;43mgit init\u001b[39;49m\u001b[38;5;130;43;01m\\n\u001b[39;49;00m\u001b[38;5;124;43mgit add --all\u001b[39;49m\u001b[38;5;130;43;01m\\n\u001b[39;49;00m\u001b[38;5;124;43mgit commit -m \u001b[39;49m\u001b[38;5;124;43m\"\u001b[39;49m\u001b[38;5;124;43mthird commit\u001b[39;49m\u001b[38;5;124;43m\"\u001b[39;49m\u001b[38;5;130;43;01m\\n\u001b[39;49;00m\u001b[38;5;124;43mgit branch -M main\u001b[39;49m\u001b[38;5;130;43;01m\\n\u001b[39;49;00m\u001b[38;5;124;43mgit remote add origin https://github.com/olip78/pergola_test.git\u001b[39;49m\u001b[38;5;130;43;01m\\n\u001b[39;49;00m\u001b[38;5;124;43mgit push -u origin main\u001b[39;49m\u001b[38;5;130;43;01m\\n\u001b[39;49;00m\u001b[38;5;124;43m'\u001b[39;49m\u001b[43m)\u001b[49m\n",
      "File \u001b[0;32m~/brandcompete/sagemaker/sagemaker_deepspect/lib/python3.8/site-packages/IPython/core/interactiveshell.py:2357\u001b[0m, in \u001b[0;36mInteractiveShell.run_cell_magic\u001b[0;34m(self, magic_name, line, cell)\u001b[0m\n\u001b[1;32m   2355\u001b[0m \u001b[38;5;28;01mwith\u001b[39;00m \u001b[38;5;28mself\u001b[39m\u001b[38;5;241m.\u001b[39mbuiltin_trap:\n\u001b[1;32m   2356\u001b[0m     args \u001b[38;5;241m=\u001b[39m (magic_arg_s, cell)\n\u001b[0;32m-> 2357\u001b[0m     result \u001b[38;5;241m=\u001b[39m \u001b[43mfn\u001b[49m\u001b[43m(\u001b[49m\u001b[38;5;241;43m*\u001b[39;49m\u001b[43margs\u001b[49m\u001b[43m,\u001b[49m\u001b[43m \u001b[49m\u001b[38;5;241;43m*\u001b[39;49m\u001b[38;5;241;43m*\u001b[39;49m\u001b[43mkwargs\u001b[49m\u001b[43m)\u001b[49m\n\u001b[1;32m   2358\u001b[0m \u001b[38;5;28;01mreturn\u001b[39;00m result\n",
      "File \u001b[0;32m~/brandcompete/sagemaker/sagemaker_deepspect/lib/python3.8/site-packages/IPython/core/magics/script.py:153\u001b[0m, in \u001b[0;36mScriptMagics._make_script_magic.<locals>.named_script_magic\u001b[0;34m(line, cell)\u001b[0m\n\u001b[1;32m    151\u001b[0m \u001b[38;5;28;01melse\u001b[39;00m:\n\u001b[1;32m    152\u001b[0m     line \u001b[38;5;241m=\u001b[39m script\n\u001b[0;32m--> 153\u001b[0m \u001b[38;5;28;01mreturn\u001b[39;00m \u001b[38;5;28;43mself\u001b[39;49m\u001b[38;5;241;43m.\u001b[39;49m\u001b[43mshebang\u001b[49m\u001b[43m(\u001b[49m\u001b[43mline\u001b[49m\u001b[43m,\u001b[49m\u001b[43m \u001b[49m\u001b[43mcell\u001b[49m\u001b[43m)\u001b[49m\n",
      "File \u001b[0;32m~/brandcompete/sagemaker/sagemaker_deepspect/lib/python3.8/site-packages/IPython/core/magics/script.py:305\u001b[0m, in \u001b[0;36mScriptMagics.shebang\u001b[0;34m(self, line, cell)\u001b[0m\n\u001b[1;32m    300\u001b[0m \u001b[38;5;28;01mif\u001b[39;00m args\u001b[38;5;241m.\u001b[39mraise_error \u001b[38;5;129;01mand\u001b[39;00m p\u001b[38;5;241m.\u001b[39mreturncode \u001b[38;5;241m!=\u001b[39m \u001b[38;5;241m0\u001b[39m:\n\u001b[1;32m    301\u001b[0m     \u001b[38;5;66;03m# If we get here and p.returncode is still None, we must have\u001b[39;00m\n\u001b[1;32m    302\u001b[0m     \u001b[38;5;66;03m# killed it but not yet seen its return code. We don't wait for it,\u001b[39;00m\n\u001b[1;32m    303\u001b[0m     \u001b[38;5;66;03m# in case it's stuck in uninterruptible sleep. -9 = SIGKILL\u001b[39;00m\n\u001b[1;32m    304\u001b[0m     rc \u001b[38;5;241m=\u001b[39m p\u001b[38;5;241m.\u001b[39mreturncode \u001b[38;5;129;01mor\u001b[39;00m \u001b[38;5;241m-\u001b[39m\u001b[38;5;241m9\u001b[39m\n\u001b[0;32m--> 305\u001b[0m     \u001b[38;5;28;01mraise\u001b[39;00m CalledProcessError(rc, cell)\n",
      "\u001b[0;31mCalledProcessError\u001b[0m: Command 'b'git init\\ngit add --all\\ngit commit -m \"third commit\"\\ngit branch -M main\\ngit remote add origin https://github.com/olip78/pergola_test.git\\ngit push -u origin main\\n'' returned non-zero exit status 1."
     ]
    }
   ],
   "source": [
    "%%sh\n",
    "git init\n",
    "git add --all\n",
    "git commit -m \"third commit\"\n",
    "git branch -M main\n",
    "git remote add origin https://github.com/olip78/pergola_test.git\n",
    "git push -u origin main"
   ]
  },
  {
   "cell_type": "code",
   "execution_count": null,
   "id": "f1e0b8a7",
   "metadata": {},
   "outputs": [],
   "source": []
  }
 ],
 "metadata": {
  "kernelspec": {
   "display_name": "Python 3 (ipykernel)",
   "language": "python",
   "name": "python3"
  },
  "language_info": {
   "codemirror_mode": {
    "name": "ipython",
    "version": 3
   },
   "file_extension": ".py",
   "mimetype": "text/x-python",
   "name": "python",
   "nbconvert_exporter": "python",
   "pygments_lexer": "ipython3",
   "version": "3.8.11"
  }
 },
 "nbformat": 4,
 "nbformat_minor": 5
}
