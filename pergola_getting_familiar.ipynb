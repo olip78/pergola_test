{
 "cells": [
  {
   "cell_type": "code",
   "execution_count": 1,
   "id": "1d366d17",
   "metadata": {},
   "outputs": [
    {
     "name": "stdout",
     "output_type": "stream",
     "text": [
      "Writing pergola.yaml\n"
     ]
    }
   ],
   "source": [
    "%%writefile pergola.yaml\n",
    "version: v1\n",
    "\n",
    "components:\n",
    "- name: todo-app\n",
    "  docker:\n",
    "    file: Dockerfile\n",
    "  ports:\n",
    "  - 5050\n",
    "  ingresses:\n",
    "  - host: app\n",
    "  env:\n",
    "  - name: SQLALCHEMY_HOST\n",
    "    component-ref: todo-db\n",
    "  - name: SQLALCHEMY_PORT\n",
    "    value: \"5432\"\n",
    "  - name: SQLALCHEMY_DB\n",
    "    value: flask-demo\n",
    "  - name: SQLALCHEMY_USER\n",
    "    config-ref: DB_USER\n",
    "  - name: SQLALCHEMY_PASSWORD\n",
    "    config-ref: DB_PASS\n",
    "\n",
    "- name: todo-db\n",
    "  docker:\n",
    "    image: postgres:14.2\n",
    "  env:\n",
    "  - name: POSTGRES_DB\n",
    "    value: flask-demo\n",
    "  - name: POSTGRES_USER\n",
    "    config-ref: DB_USER\n",
    "  - name: POSTGRES_PASSWORD\n",
    "    config-ref: DB_PASS\n",
    "  storage:\n",
    "  - name: pgdata\n",
    "    path: /var/lib/postgresql/data\n",
    "    size: 1Gi\n",
    "  ports:\n",
    "  - 5432"
   ]
  },
  {
   "cell_type": "code",
   "execution_count": 2,
   "id": "f61fab56",
   "metadata": {},
   "outputs": [
    {
     "name": "stdout",
     "output_type": "stream",
     "text": [
      "Writing Dockerfile\n"
     ]
    }
   ],
   "source": [
    "%%writefile Dockerfile\n",
    "FROM python:3.8-slim\n",
    "\n",
    "RUN apt-get update -y && \\\n",
    "    apt-get install -y gcc libpq-dev && \\\n",
    "    apt-get clean && \\\n",
    "    rm -rf /var/lib/apt/lists/*\n",
    "\n",
    "COPY requirements.txt requirements.txt\n",
    "RUN pip install -r requirements.txt\n",
    "\n",
    "WORKDIR /todo-list\n",
    "\n",
    "COPY test.py test.py\n",
    "\n",
    "ENV FLASK_APP=app\n",
    "CMD flask run --host=0.0.0.0 --port 5050"
   ]
  },
  {
   "cell_type": "code",
   "execution_count": 19,
   "id": "5f04dbc2",
   "metadata": {},
   "outputs": [
    {
     "name": "stdout",
     "output_type": "stream",
     "text": [
      "Overwriting docker-compose.yml\n"
     ]
    }
   ],
   "source": [
    "%%writefile docker-compose.yml\n",
    "version: '3'\n",
    "services:\n",
    "  flask-todo-web:\n",
    "    build: .\n",
    "    environment:\n",
    "      SQLALCHEMY_HOST: flask-todo-db\n",
    "      SQLALCHEMY_PORT: \"5432\"\n",
    "      SQLALCHEMY_DB: flask-demo\n",
    "      SQLALCHEMY_USER: flask-demo\n",
    "      SQLALCHEMY_PASSWORD: flask-demo\n",
    "    ports:\n",
    "    - \"5050:5050\"\n",
    "    depends_on:\n",
    "    - flask-todo-db\n",
    "\n",
    "  flask-todo-db:\n",
    "    image: postgres:14.2\n",
    "    environment:\n",
    "      POSTGRES_USER: flask-demo\n",
    "      POSTGRES_PASSWORD: flask-demo\n",
    "      POSTGRES_DB: flask-demo\n",
    "    healthcheck:\n",
    "      test: [\"CMD-SHELL\", \"pg_isready -h localhost -U flask-demo\"]\n",
    "      interval: 2s\n",
    "      timeout: 5s\n",
    "      retries: 5\n",
    "    ports:\n",
    "    - \"5432:5432\""
   ]
  },
  {
   "cell_type": "code",
   "execution_count": 12,
   "id": "9b60d049",
   "metadata": {},
   "outputs": [
    {
     "name": "stdout",
     "output_type": "stream",
     "text": [
      "Dockerfile                     pergola.yaml\r\n",
      "README                         pergola_getting_familiar.ipynb\r\n",
      "docker-compose.yml             requirements.txt\r\n",
      "\u001b[34molip78.git\u001b[m\u001b[m                     test.py\r\n"
     ]
    }
   ],
   "source": [
    "!ls"
   ]
  },
  {
   "cell_type": "code",
   "execution_count": 20,
   "id": "3d9969df",
   "metadata": {},
   "outputs": [
    {
     "name": "stdout",
     "output_type": "stream",
     "text": [
      "Reinitialized existing Git repository in /Users/andreichekunov/brandcompete/sagemaker/pergola_deployment/test/.git/\n"
     ]
    },
    {
     "name": "stderr",
     "output_type": "stream",
     "text": [
      "error: remote origin already exists.\n",
      "error: unknown switch `u'\n",
      "usage: git pull [<options>] [<repository> [<refspec>...]]\n",
      "\n",
      "    -v, --verbose         be more verbose\n",
      "    -q, --quiet           be more quiet\n",
      "    --progress            force progress reporting\n",
      "    --recurse-submodules[=<on-demand>]\n",
      "                          control for recursive fetching of submodules\n",
      "\n",
      "Options related to merging\n",
      "    -r, --rebase[=(false|true|merges|preserve|interactive)]\n",
      "                          incorporate changes by rebasing rather than merging\n",
      "    -n                    do not show a diffstat at the end of the merge\n",
      "    --stat                show a diffstat at the end of the merge\n",
      "    --log[=<n>]           add (at most <n>) entries from shortlog to merge commit message\n",
      "    --signoff[=...]       add a Signed-off-by trailer\n",
      "    --squash              create a single commit instead of doing a merge\n",
      "    --commit              perform a commit if the merge succeeds (default)\n",
      "    --edit                edit message before committing\n",
      "    --cleanup <mode>      how to strip spaces and #comments from message\n",
      "    --ff                  allow fast-forward\n",
      "    --ff-only             abort if fast-forward is not possible\n",
      "    --verify-signatures   verify that the named commit has a valid GPG signature\n",
      "    --autostash           automatically stash/stash pop before and after\n",
      "    -s, --strategy <strategy>\n",
      "                          merge strategy to use\n",
      "    -X, --strategy-option <option=value>\n",
      "                          option for selected merge strategy\n",
      "    -S, --gpg-sign[=<key-id>]\n",
      "                          GPG sign commit\n",
      "    --allow-unrelated-histories\n",
      "                          allow merging unrelated histories\n",
      "\n",
      "Options related to fetching\n",
      "    --all                 fetch from all remotes\n",
      "    -a, --append          append to .git/FETCH_HEAD instead of overwriting\n",
      "    --upload-pack <path>  path to upload pack on remote end\n",
      "    -f, --force           force overwrite of local branch\n",
      "    -t, --tags            fetch all tags and associated objects\n",
      "    -p, --prune           prune remote-tracking branches no longer on remote\n",
      "    -j, --jobs[=<n>]      number of submodules pulled in parallel\n",
      "    --dry-run             dry run\n",
      "    -k, --keep            keep downloaded pack\n",
      "    --depth <depth>       deepen history of shallow clone\n",
      "    --shallow-since <time>\n",
      "                          deepen history of shallow repository based on time\n",
      "    --shallow-exclude <revision>\n",
      "                          deepen history of shallow clone, excluding rev\n",
      "    --deepen <n>          deepen history of shallow clone\n",
      "    --unshallow           convert to a complete repository\n",
      "    --update-shallow      accept refs that update .git/shallow\n",
      "    --refmap <refmap>     specify fetch refmap\n",
      "    -o, --server-option <server-specific>\n",
      "                          option to transmit\n",
      "    -4, --ipv4            use IPv4 addresses only\n",
      "    -6, --ipv6            use IPv6 addresses only\n",
      "    --negotiation-tip <revision>\n",
      "                          report that we have only objects reachable from this object\n",
      "    --show-forced-updates\n",
      "                          check for forced-updates on all updated branches\n",
      "    --set-upstream        set upstream for git pull/fetch\n",
      "\n"
     ]
    },
    {
     "name": "stdout",
     "output_type": "stream",
     "text": [
      "[main ad524b8] third commit\n",
      " 1 file changed, 13 insertions(+), 23 deletions(-)\n"
     ]
    },
    {
     "name": "stderr",
     "output_type": "stream",
     "text": [
      "error: src refspec master does not match any\n",
      "error: failed to push some refs to 'https://github.com/olip78/pergola_test.git'\n"
     ]
    },
    {
     "ename": "CalledProcessError",
     "evalue": "Command 'b'git init\\ngit remote add origin https://github.com/olip78/pergola_test.git\\ngit pull -u origin main\\ngit add --all\\ngit commit -m \"third commit\"\\ngit branch -M main\\ngit push origin master\\n'' returned non-zero exit status 1.",
     "output_type": "error",
     "traceback": [
      "\u001b[0;31m---------------------------------------------------------------------------\u001b[0m",
      "\u001b[0;31mCalledProcessError\u001b[0m                        Traceback (most recent call last)",
      "Input \u001b[0;32mIn [20]\u001b[0m, in \u001b[0;36m<cell line: 1>\u001b[0;34m()\u001b[0m\n\u001b[0;32m----> 1\u001b[0m \u001b[43mget_ipython\u001b[49m\u001b[43m(\u001b[49m\u001b[43m)\u001b[49m\u001b[38;5;241;43m.\u001b[39;49m\u001b[43mrun_cell_magic\u001b[49m\u001b[43m(\u001b[49m\u001b[38;5;124;43m'\u001b[39;49m\u001b[38;5;124;43msh\u001b[39;49m\u001b[38;5;124;43m'\u001b[39;49m\u001b[43m,\u001b[49m\u001b[43m \u001b[49m\u001b[38;5;124;43m'\u001b[39;49m\u001b[38;5;124;43m'\u001b[39;49m\u001b[43m,\u001b[49m\u001b[43m \u001b[49m\u001b[38;5;124;43m'\u001b[39;49m\u001b[38;5;124;43mgit init\u001b[39;49m\u001b[38;5;130;43;01m\\n\u001b[39;49;00m\u001b[38;5;124;43mgit remote add origin https://github.com/olip78/pergola_test.git\u001b[39;49m\u001b[38;5;130;43;01m\\n\u001b[39;49;00m\u001b[38;5;124;43mgit pull -u origin main\u001b[39;49m\u001b[38;5;130;43;01m\\n\u001b[39;49;00m\u001b[38;5;124;43mgit add --all\u001b[39;49m\u001b[38;5;130;43;01m\\n\u001b[39;49;00m\u001b[38;5;124;43mgit commit -m \u001b[39;49m\u001b[38;5;124;43m\"\u001b[39;49m\u001b[38;5;124;43mthird commit\u001b[39;49m\u001b[38;5;124;43m\"\u001b[39;49m\u001b[38;5;130;43;01m\\n\u001b[39;49;00m\u001b[38;5;124;43mgit branch -M main\u001b[39;49m\u001b[38;5;130;43;01m\\n\u001b[39;49;00m\u001b[38;5;124;43mgit push origin master\u001b[39;49m\u001b[38;5;130;43;01m\\n\u001b[39;49;00m\u001b[38;5;124;43m'\u001b[39;49m\u001b[43m)\u001b[49m\n",
      "File \u001b[0;32m~/brandcompete/sagemaker/sagemaker_deepspect/lib/python3.8/site-packages/IPython/core/interactiveshell.py:2357\u001b[0m, in \u001b[0;36mInteractiveShell.run_cell_magic\u001b[0;34m(self, magic_name, line, cell)\u001b[0m\n\u001b[1;32m   2355\u001b[0m \u001b[38;5;28;01mwith\u001b[39;00m \u001b[38;5;28mself\u001b[39m\u001b[38;5;241m.\u001b[39mbuiltin_trap:\n\u001b[1;32m   2356\u001b[0m     args \u001b[38;5;241m=\u001b[39m (magic_arg_s, cell)\n\u001b[0;32m-> 2357\u001b[0m     result \u001b[38;5;241m=\u001b[39m \u001b[43mfn\u001b[49m\u001b[43m(\u001b[49m\u001b[38;5;241;43m*\u001b[39;49m\u001b[43margs\u001b[49m\u001b[43m,\u001b[49m\u001b[43m \u001b[49m\u001b[38;5;241;43m*\u001b[39;49m\u001b[38;5;241;43m*\u001b[39;49m\u001b[43mkwargs\u001b[49m\u001b[43m)\u001b[49m\n\u001b[1;32m   2358\u001b[0m \u001b[38;5;28;01mreturn\u001b[39;00m result\n",
      "File \u001b[0;32m~/brandcompete/sagemaker/sagemaker_deepspect/lib/python3.8/site-packages/IPython/core/magics/script.py:153\u001b[0m, in \u001b[0;36mScriptMagics._make_script_magic.<locals>.named_script_magic\u001b[0;34m(line, cell)\u001b[0m\n\u001b[1;32m    151\u001b[0m \u001b[38;5;28;01melse\u001b[39;00m:\n\u001b[1;32m    152\u001b[0m     line \u001b[38;5;241m=\u001b[39m script\n\u001b[0;32m--> 153\u001b[0m \u001b[38;5;28;01mreturn\u001b[39;00m \u001b[38;5;28;43mself\u001b[39;49m\u001b[38;5;241;43m.\u001b[39;49m\u001b[43mshebang\u001b[49m\u001b[43m(\u001b[49m\u001b[43mline\u001b[49m\u001b[43m,\u001b[49m\u001b[43m \u001b[49m\u001b[43mcell\u001b[49m\u001b[43m)\u001b[49m\n",
      "File \u001b[0;32m~/brandcompete/sagemaker/sagemaker_deepspect/lib/python3.8/site-packages/IPython/core/magics/script.py:305\u001b[0m, in \u001b[0;36mScriptMagics.shebang\u001b[0;34m(self, line, cell)\u001b[0m\n\u001b[1;32m    300\u001b[0m \u001b[38;5;28;01mif\u001b[39;00m args\u001b[38;5;241m.\u001b[39mraise_error \u001b[38;5;129;01mand\u001b[39;00m p\u001b[38;5;241m.\u001b[39mreturncode \u001b[38;5;241m!=\u001b[39m \u001b[38;5;241m0\u001b[39m:\n\u001b[1;32m    301\u001b[0m     \u001b[38;5;66;03m# If we get here and p.returncode is still None, we must have\u001b[39;00m\n\u001b[1;32m    302\u001b[0m     \u001b[38;5;66;03m# killed it but not yet seen its return code. We don't wait for it,\u001b[39;00m\n\u001b[1;32m    303\u001b[0m     \u001b[38;5;66;03m# in case it's stuck in uninterruptible sleep. -9 = SIGKILL\u001b[39;00m\n\u001b[1;32m    304\u001b[0m     rc \u001b[38;5;241m=\u001b[39m p\u001b[38;5;241m.\u001b[39mreturncode \u001b[38;5;129;01mor\u001b[39;00m \u001b[38;5;241m-\u001b[39m\u001b[38;5;241m9\u001b[39m\n\u001b[0;32m--> 305\u001b[0m     \u001b[38;5;28;01mraise\u001b[39;00m CalledProcessError(rc, cell)\n",
      "\u001b[0;31mCalledProcessError\u001b[0m: Command 'b'git init\\ngit remote add origin https://github.com/olip78/pergola_test.git\\ngit pull -u origin main\\ngit add --all\\ngit commit -m \"third commit\"\\ngit branch -M main\\ngit push origin master\\n'' returned non-zero exit status 1."
     ]
    }
   ],
   "source": [
    "%%sh\n",
    "git init\n",
    "git remote add origin https://github.com/olip78/pergola_test.git\n",
    "git pull -u origin main\n",
    "git add --all\n",
    "git commit -m \"third commit\"\n",
    "git branch -M main\n",
    "git push origin master"
   ]
  },
  {
   "cell_type": "code",
   "execution_count": null,
   "id": "3b42206e",
   "metadata": {},
   "outputs": [],
   "source": []
  }
 ],
 "metadata": {
  "kernelspec": {
   "display_name": "Python 3 (ipykernel)",
   "language": "python",
   "name": "python3"
  },
  "language_info": {
   "codemirror_mode": {
    "name": "ipython",
    "version": 3
   },
   "file_extension": ".py",
   "mimetype": "text/x-python",
   "name": "python",
   "nbconvert_exporter": "python",
   "pygments_lexer": "ipython3",
   "version": "3.8.11"
  }
 },
 "nbformat": 4,
 "nbformat_minor": 5
}
